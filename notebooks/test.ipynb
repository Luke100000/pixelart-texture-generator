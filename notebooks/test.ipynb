{
 "cells": [
  {
   "cell_type": "code",
   "execution_count": null,
   "id": "initial_id",
   "metadata": {
    "collapsed": true
   },
   "outputs": [],
   "source": [
    "import matplotlib.pyplot as plt\n",
    "import numpy as np\n",
    "from PIL import Image"
   ]
  },
  {
   "cell_type": "code",
   "execution_count": null,
   "outputs": [],
   "source": [
    "path = 'test.png'"
   ],
   "metadata": {
    "collapsed": false
   },
   "id": "9a0c353569dfbd88"
  },
  {
   "cell_type": "code",
   "execution_count": null,
   "outputs": [],
   "source": [
    "from src.utils import image_to_np, downscale, generate_palette, make_seamless, get_color_palette\n",
    "\n",
    "image = Image.open(path)\n",
    "image = image_to_np(image)\n",
    "image = downscale(image)\n",
    "image = generate_palette(image)\n",
    "image = make_seamless(image)"
   ],
   "metadata": {
    "collapsed": false
   },
   "id": "7d26b8ee8953e8ab"
  },
  {
   "cell_type": "code",
   "execution_count": null,
   "outputs": [],
   "source": [
    "get_color_palette(image)"
   ],
   "metadata": {
    "collapsed": false
   },
   "id": "3cb6391de9b13e7c"
  },
  {
   "cell_type": "code",
   "execution_count": null,
   "outputs": [],
   "source": [
    "plt.axis('off')\n",
    "plt.imshow(image)\n",
    "image.shape"
   ],
   "metadata": {
    "collapsed": false
   },
   "id": "75848d977871afa8"
  },
  {
   "cell_type": "code",
   "execution_count": null,
   "outputs": [],
   "source": [
    "from src.utils import remap_image\n",
    "\n",
    "new_pallet = np.asarray([\n",
    "    [1.0, 1.0, 1.0, 1.0],\n",
    "    [0.25, 0.25, 0.25, 1.0],\n",
    "    [0.5, 0.5, 0.5, 1.0],\n",
    "    [0.75, 0.75, 0.75, 1.0],\n",
    "    [0.0, 0.0, 0.0, 1.0]\n",
    "])\n",
    "\n",
    "remapped_image = remap_image(image, new_pallet)\n",
    "\n",
    "plt.axis('off')\n",
    "plt.imshow(remapped_image)\n",
    "\n",
    "Image.fromarray((remapped_image * 255).astype(np.uint8)).save('test_remap.png')"
   ],
   "metadata": {
    "collapsed": false
   },
   "id": "c2bccd0f297ebd76"
  },
  {
   "cell_type": "code",
   "execution_count": null,
   "outputs": [],
   "source": [],
   "metadata": {
    "collapsed": false
   },
   "id": "5159498a99f3e453"
  }
 ],
 "metadata": {
  "kernelspec": {
   "display_name": "Python 3",
   "language": "python",
   "name": "python3"
  },
  "language_info": {
   "codemirror_mode": {
    "name": "ipython",
    "version": 2
   },
   "file_extension": ".py",
   "mimetype": "text/x-python",
   "name": "python",
   "nbconvert_exporter": "python",
   "pygments_lexer": "ipython2",
   "version": "2.7.6"
  }
 },
 "nbformat": 4,
 "nbformat_minor": 5
}
